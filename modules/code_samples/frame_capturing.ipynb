{
 "cells": [
  {
   "cell_type": "markdown",
   "id": "9cf91e1a-dc0d-4c5b-aec3-9ce6e4d911d4",
   "metadata": {},
   "source": [
    "# Frame Capturing"
   ]
  },
  {
   "cell_type": "code",
   "execution_count": 4,
   "id": "39ddf21d-69da-4d72-ad96-944022863e01",
   "metadata": {},
   "outputs": [],
   "source": [
    "import cv2\n",
    "from time import time"
   ]
  },
  {
   "cell_type": "code",
   "execution_count": 8,
   "id": "0c422d0c-d74f-4aaf-abb6-adc1ce914502",
   "metadata": {},
   "outputs": [],
   "source": [
    "cap = cv2.VideoCapture(0)\n",
    "num = 0\n",
    "\n",
    "while cap.isOpened():\n",
    "    time_start = time()\n",
    "    \n",
    "    success, frame = cap.read()\n",
    "    frame = cv2.flip(frame, 1)\n",
    "\n",
    "    time_end = time()\n",
    "    fps = 1 / round(time_end - time_start, 2)\n",
    "\n",
    "    cv2.putText(frame, f'FPS: {int(fps)}', (20, 70), cv2.FONT_HERSHEY_SIMPLEX, 1.5, (0, 255, 0), 2)\n",
    "    cv2.imshow('VideoCapture', frame)\n",
    "    \n",
    "    if cv2.waitKey(1) & 0xFF == ord('q'):\n",
    "        break\n",
    "\n",
    "cap.release()\n",
    "cv2.destroyAllWindows()"
   ]
  },
  {
   "cell_type": "code",
   "execution_count": null,
   "id": "6eb160d6",
   "metadata": {},
   "outputs": [],
   "source": []
  }
 ],
 "metadata": {
  "kernelspec": {
   "display_name": "Python 3 (ipykernel)",
   "language": "python",
   "name": "python3"
  },
  "language_info": {
   "codemirror_mode": {
    "name": "ipython",
    "version": 3
   },
   "file_extension": ".py",
   "mimetype": "text/x-python",
   "name": "python",
   "nbconvert_exporter": "python",
   "pygments_lexer": "ipython3",
   "version": "3.10.11"
  }
 },
 "nbformat": 4,
 "nbformat_minor": 5
}
