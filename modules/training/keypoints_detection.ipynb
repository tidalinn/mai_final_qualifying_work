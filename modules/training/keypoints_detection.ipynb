{
 "cells": [
  {
   "cell_type": "markdown",
   "metadata": {},
   "source": []
  },
  {
   "cell_type": "code",
   "execution_count": null,
   "metadata": {},
   "outputs": [],
   "source": []
  },
  {
   "cell_type": "code",
   "execution_count": null,
   "metadata": {},
   "outputs": [],
   "source": []
  },
  {
   "cell_type": "code",
   "execution_count": null,
   "metadata": {},
   "outputs": [],
   "source": []
  },
  {
   "cell_type": "code",
   "execution_count": null,
   "metadata": {},
   "outputs": [],
   "source": []
  },
  {
   "cell_type": "code",
   "execution_count": null,
   "metadata": {},
   "outputs": [],
   "source": []
  },
  {
   "cell_type": "code",
   "execution_count": null,
   "metadata": {},
   "outputs": [],
   "source": []
  },
  {
   "cell_type": "code",
   "execution_count": 7,
   "metadata": {},
   "outputs": [
    {
     "name": "stdout",
     "output_type": "stream",
     "text": [
      "Collecting fastai\n",
      "  Downloading fastai-2.7.15-py3-none-any.whl.metadata (9.1 kB)\n",
      "Requirement already satisfied: pip in c:\\python 3.10.11\\lib\\site-packages (from fastai) (24.0)\n",
      "Requirement already satisfied: packaging in c:\\python 3.10.11\\lib\\site-packages (from fastai) (24.0)\n",
      "Collecting fastdownload<2,>=0.0.5 (from fastai)\n",
      "  Downloading fastdownload-0.0.7-py3-none-any.whl.metadata (5.5 kB)\n",
      "Collecting fastcore<1.6,>=1.5.29 (from fastai)\n",
      "  Downloading fastcore-1.5.45-py3-none-any.whl.metadata (3.5 kB)\n",
      "Requirement already satisfied: torchvision>=0.11 in c:\\python 3.10.11\\lib\\site-packages (from fastai) (0.15.2+cu117)\n",
      "Requirement already satisfied: matplotlib in c:\\python 3.10.11\\lib\\site-packages (from fastai) (3.8.4)\n",
      "Requirement already satisfied: pandas in c:\\python 3.10.11\\lib\\site-packages (from fastai) (2.2.2)\n",
      "Requirement already satisfied: requests in c:\\python 3.10.11\\lib\\site-packages (from fastai) (2.31.0)\n",
      "Requirement already satisfied: pyyaml in c:\\python 3.10.11\\lib\\site-packages (from fastai) (6.0.1)\n",
      "Collecting fastprogress>=0.2.4 (from fastai)\n",
      "  Downloading fastprogress-1.0.3-py3-none-any.whl.metadata (5.6 kB)\n",
      "Requirement already satisfied: pillow>=9.0.0 in c:\\python 3.10.11\\lib\\site-packages (from fastai) (10.3.0)\n",
      "Requirement already satisfied: scikit-learn in c:\\python 3.10.11\\lib\\site-packages (from fastai) (1.4.2)\n",
      "Requirement already satisfied: scipy in c:\\python 3.10.11\\lib\\site-packages (from fastai) (1.13.0)\n",
      "Collecting spacy<4 (from fastai)\n",
      "  Downloading spacy-3.7.5-cp310-cp310-win_amd64.whl.metadata (27 kB)\n",
      "Requirement already satisfied: torch<2.4,>=1.10 in c:\\python 3.10.11\\lib\\site-packages (from fastai) (2.0.1+cu117)\n",
      "Collecting spacy-legacy<3.1.0,>=3.0.11 (from spacy<4->fastai)\n",
      "  Downloading spacy_legacy-3.0.12-py2.py3-none-any.whl.metadata (2.8 kB)\n",
      "Collecting spacy-loggers<2.0.0,>=1.0.0 (from spacy<4->fastai)\n",
      "  Downloading spacy_loggers-1.0.5-py3-none-any.whl.metadata (23 kB)\n",
      "Collecting murmurhash<1.1.0,>=0.28.0 (from spacy<4->fastai)\n",
      "  Downloading murmurhash-1.0.10-cp310-cp310-win_amd64.whl.metadata (2.0 kB)\n",
      "Collecting cymem<2.1.0,>=2.0.2 (from spacy<4->fastai)\n",
      "  Downloading cymem-2.0.8-cp310-cp310-win_amd64.whl.metadata (8.6 kB)\n",
      "Collecting preshed<3.1.0,>=3.0.2 (from spacy<4->fastai)\n",
      "  Downloading preshed-3.0.9-cp310-cp310-win_amd64.whl.metadata (2.2 kB)\n",
      "Collecting thinc<8.3.0,>=8.2.2 (from spacy<4->fastai)\n",
      "  Downloading thinc-8.2.4-cp310-cp310-win_amd64.whl.metadata (15 kB)\n",
      "Collecting wasabi<1.2.0,>=0.9.1 (from spacy<4->fastai)\n",
      "  Downloading wasabi-1.1.3-py3-none-any.whl.metadata (28 kB)\n",
      "Collecting srsly<3.0.0,>=2.4.3 (from spacy<4->fastai)\n",
      "  Downloading srsly-2.4.8-cp310-cp310-win_amd64.whl.metadata (20 kB)\n",
      "Collecting catalogue<2.1.0,>=2.0.6 (from spacy<4->fastai)\n",
      "  Downloading catalogue-2.0.10-py3-none-any.whl.metadata (14 kB)\n",
      "Collecting weasel<0.5.0,>=0.1.0 (from spacy<4->fastai)\n",
      "  Downloading weasel-0.4.1-py3-none-any.whl.metadata (4.6 kB)\n",
      "Collecting typer<1.0.0,>=0.3.0 (from spacy<4->fastai)\n",
      "  Downloading typer-0.12.3-py3-none-any.whl.metadata (15 kB)\n",
      "Requirement already satisfied: tqdm<5.0.0,>=4.38.0 in c:\\python 3.10.11\\lib\\site-packages (from spacy<4->fastai) (4.64.1)\n",
      "Requirement already satisfied: pydantic!=1.8,!=1.8.1,<3.0.0,>=1.7.4 in c:\\python 3.10.11\\lib\\site-packages (from spacy<4->fastai) (2.7.1)\n",
      "Requirement already satisfied: jinja2 in c:\\python 3.10.11\\lib\\site-packages (from spacy<4->fastai) (3.1.3)\n",
      "Requirement already satisfied: setuptools in c:\\python 3.10.11\\lib\\site-packages (from spacy<4->fastai) (70.0.0)\n",
      "Collecting langcodes<4.0.0,>=3.2.0 (from spacy<4->fastai)\n",
      "  Downloading langcodes-3.4.0-py3-none-any.whl.metadata (29 kB)\n",
      "Requirement already satisfied: numpy>=1.19.0 in c:\\python 3.10.11\\lib\\site-packages (from spacy<4->fastai) (1.26.3)\n",
      "Requirement already satisfied: charset-normalizer<4,>=2 in c:\\python 3.10.11\\lib\\site-packages (from requests->fastai) (2.1.1)\n",
      "Requirement already satisfied: idna<4,>=2.5 in c:\\python 3.10.11\\lib\\site-packages (from requests->fastai) (2.10)\n",
      "Requirement already satisfied: urllib3<3,>=1.21.1 in c:\\python 3.10.11\\lib\\site-packages (from requests->fastai) (1.26.13)\n",
      "Requirement already satisfied: certifi>=2017.4.17 in c:\\python 3.10.11\\lib\\site-packages (from requests->fastai) (2023.7.22)\n",
      "Requirement already satisfied: filelock in c:\\python 3.10.11\\lib\\site-packages (from torch<2.4,>=1.10->fastai) (3.13.1)\n",
      "Requirement already satisfied: typing-extensions in c:\\python 3.10.11\\lib\\site-packages (from torch<2.4,>=1.10->fastai) (4.9.0)\n",
      "Requirement already satisfied: sympy in c:\\python 3.10.11\\lib\\site-packages (from torch<2.4,>=1.10->fastai) (1.12)\n",
      "Requirement already satisfied: networkx in c:\\python 3.10.11\\lib\\site-packages (from torch<2.4,>=1.10->fastai) (3.2.1)\n",
      "Requirement already satisfied: contourpy>=1.0.1 in c:\\python 3.10.11\\lib\\site-packages (from matplotlib->fastai) (1.2.1)\n",
      "Requirement already satisfied: cycler>=0.10 in c:\\python 3.10.11\\lib\\site-packages (from matplotlib->fastai) (0.10.0)\n",
      "Requirement already satisfied: fonttools>=4.22.0 in c:\\python 3.10.11\\lib\\site-packages (from matplotlib->fastai) (4.51.0)\n",
      "Requirement already satisfied: kiwisolver>=1.3.1 in c:\\python 3.10.11\\lib\\site-packages (from matplotlib->fastai) (1.4.5)\n",
      "Requirement already satisfied: pyparsing>=2.3.1 in c:\\python 3.10.11\\lib\\site-packages (from matplotlib->fastai) (3.1.2)\n",
      "Requirement already satisfied: python-dateutil>=2.7 in c:\\python 3.10.11\\lib\\site-packages (from matplotlib->fastai) (2.9.0.post0)\n",
      "Requirement already satisfied: pytz>=2020.1 in c:\\python 3.10.11\\lib\\site-packages (from pandas->fastai) (2024.1)\n",
      "Requirement already satisfied: tzdata>=2022.7 in c:\\python 3.10.11\\lib\\site-packages (from pandas->fastai) (2024.1)\n",
      "Requirement already satisfied: joblib>=1.2.0 in c:\\python 3.10.11\\lib\\site-packages (from scikit-learn->fastai) (1.4.0)\n",
      "Requirement already satisfied: threadpoolctl>=2.0.0 in c:\\python 3.10.11\\lib\\site-packages (from scikit-learn->fastai) (3.4.0)\n",
      "Requirement already satisfied: six in c:\\python 3.10.11\\lib\\site-packages (from cycler>=0.10->matplotlib->fastai) (1.16.0)\n",
      "Collecting language-data>=1.2 (from langcodes<4.0.0,>=3.2.0->spacy<4->fastai)\n",
      "  Downloading language_data-1.2.0-py3-none-any.whl.metadata (4.3 kB)\n",
      "Requirement already satisfied: annotated-types>=0.4.0 in c:\\python 3.10.11\\lib\\site-packages (from pydantic!=1.8,!=1.8.1,<3.0.0,>=1.7.4->spacy<4->fastai) (0.6.0)\n",
      "Requirement already satisfied: pydantic-core==2.18.2 in c:\\python 3.10.11\\lib\\site-packages (from pydantic!=1.8,!=1.8.1,<3.0.0,>=1.7.4->spacy<4->fastai) (2.18.2)\n",
      "Collecting blis<0.8.0,>=0.7.8 (from thinc<8.3.0,>=8.2.2->spacy<4->fastai)\n",
      "  Downloading blis-0.7.11-cp310-cp310-win_amd64.whl.metadata (7.6 kB)\n",
      "Collecting confection<1.0.0,>=0.0.1 (from thinc<8.3.0,>=8.2.2->spacy<4->fastai)\n",
      "  Downloading confection-0.1.5-py3-none-any.whl.metadata (19 kB)\n",
      "Requirement already satisfied: colorama in c:\\python 3.10.11\\lib\\site-packages (from tqdm<5.0.0,>=4.38.0->spacy<4->fastai) (0.4.6)\n",
      "Requirement already satisfied: click>=8.0.0 in c:\\python 3.10.11\\lib\\site-packages (from typer<1.0.0,>=0.3.0->spacy<4->fastai) (8.1.7)\n",
      "Collecting shellingham>=1.3.0 (from typer<1.0.0,>=0.3.0->spacy<4->fastai)\n",
      "  Downloading shellingham-1.5.4-py2.py3-none-any.whl.metadata (3.5 kB)\n",
      "Requirement already satisfied: rich>=10.11.0 in c:\\python 3.10.11\\lib\\site-packages (from typer<1.0.0,>=0.3.0->spacy<4->fastai) (13.7.1)\n",
      "Collecting cloudpathlib<1.0.0,>=0.7.0 (from weasel<0.5.0,>=0.1.0->spacy<4->fastai)\n",
      "  Downloading cloudpathlib-0.18.1-py3-none-any.whl.metadata (14 kB)\n",
      "Collecting smart-open<8.0.0,>=5.2.1 (from weasel<0.5.0,>=0.1.0->spacy<4->fastai)\n",
      "  Downloading smart_open-7.0.4-py3-none-any.whl.metadata (23 kB)\n",
      "Requirement already satisfied: MarkupSafe>=2.0 in c:\\python 3.10.11\\lib\\site-packages (from jinja2->spacy<4->fastai) (2.1.5)\n",
      "Requirement already satisfied: mpmath>=0.19 in c:\\python 3.10.11\\lib\\site-packages (from sympy->torch<2.4,>=1.10->fastai) (1.3.0)\n",
      "Collecting marisa-trie>=0.7.7 (from language-data>=1.2->langcodes<4.0.0,>=3.2.0->spacy<4->fastai)\n",
      "  Downloading marisa_trie-1.2.0-cp310-cp310-win_amd64.whl.metadata (9.0 kB)\n",
      "Requirement already satisfied: markdown-it-py>=2.2.0 in c:\\python 3.10.11\\lib\\site-packages (from rich>=10.11.0->typer<1.0.0,>=0.3.0->spacy<4->fastai) (3.0.0)\n",
      "Requirement already satisfied: pygments<3.0.0,>=2.13.0 in c:\\python 3.10.11\\lib\\site-packages (from rich>=10.11.0->typer<1.0.0,>=0.3.0->spacy<4->fastai) (2.17.2)\n",
      "Requirement already satisfied: wrapt in c:\\python 3.10.11\\lib\\site-packages (from smart-open<8.0.0,>=5.2.1->weasel<0.5.0,>=0.1.0->spacy<4->fastai) (1.16.0)\n",
      "Requirement already satisfied: mdurl~=0.1 in c:\\python 3.10.11\\lib\\site-packages (from markdown-it-py>=2.2.0->rich>=10.11.0->typer<1.0.0,>=0.3.0->spacy<4->fastai) (0.1.2)\n",
      "Downloading fastai-2.7.15-py3-none-any.whl (232 kB)\n",
      "   ---------------------------------------- 0.0/232.7 kB ? eta -:--:--\n",
      "   ------- -------------------------------- 41.0/232.7 kB 2.0 MB/s eta 0:00:01\n",
      "   --------------------------------- ------ 194.6/232.7 kB 2.0 MB/s eta 0:00:01\n",
      "   ---------------------------------------- 232.7/232.7 kB 2.4 MB/s eta 0:00:00\n",
      "Downloading fastcore-1.5.45-py3-none-any.whl (75 kB)\n",
      "   ---------------------------------------- 0.0/75.0 kB ? eta -:--:--\n",
      "   ---------------------------------------- 75.0/75.0 kB ? eta 0:00:00\n",
      "Downloading fastdownload-0.0.7-py3-none-any.whl (12 kB)\n",
      "Downloading fastprogress-1.0.3-py3-none-any.whl (12 kB)\n",
      "Downloading spacy-3.7.5-cp310-cp310-win_amd64.whl (12.1 MB)\n",
      "   ---------------------------------------- 0.0/12.1 MB ? eta -:--:--\n",
      "    --------------------------------------- 0.3/12.1 MB 15.4 MB/s eta 0:00:01\n",
      "   - -------------------------------------- 0.6/12.1 MB 7.1 MB/s eta 0:00:02\n",
      "   -- ------------------------------------- 0.6/12.1 MB 6.5 MB/s eta 0:00:02\n",
      "   -- ------------------------------------- 0.6/12.1 MB 6.5 MB/s eta 0:00:02\n",
      "   ----- ---------------------------------- 1.6/12.1 MB 7.3 MB/s eta 0:00:02\n",
      "   ----- ---------------------------------- 1.8/12.1 MB 6.5 MB/s eta 0:00:02\n",
      "   ------ --------------------------------- 1.9/12.1 MB 6.1 MB/s eta 0:00:02\n",
      "   ------- -------------------------------- 2.4/12.1 MB 6.5 MB/s eta 0:00:02\n",
      "   --------- ------------------------------ 2.8/12.1 MB 6.9 MB/s eta 0:00:02\n",
      "   ---------- ----------------------------- 3.2/12.1 MB 7.1 MB/s eta 0:00:02\n",
      "   ----------- ---------------------------- 3.6/12.1 MB 7.2 MB/s eta 0:00:02\n",
      "   ------------- -------------------------- 3.9/12.1 MB 7.2 MB/s eta 0:00:02\n",
      "   -------------- ------------------------- 4.4/12.1 MB 7.4 MB/s eta 0:00:02\n",
      "   --------------- ------------------------ 4.8/12.1 MB 7.5 MB/s eta 0:00:01\n",
      "   ----------------- ---------------------- 5.2/12.1 MB 7.6 MB/s eta 0:00:01\n",
      "   ------------------ --------------------- 5.7/12.1 MB 7.7 MB/s eta 0:00:01\n",
      "   -------------------- ------------------- 6.2/12.1 MB 7.9 MB/s eta 0:00:01\n",
      "   --------------------- ------------------ 6.5/12.1 MB 7.9 MB/s eta 0:00:01\n",
      "   ---------------------- ----------------- 6.8/12.1 MB 7.8 MB/s eta 0:00:01\n",
      "   ----------------------- ---------------- 7.1/12.1 MB 7.8 MB/s eta 0:00:01\n",
      "   ----------------------- ---------------- 7.2/12.1 MB 7.8 MB/s eta 0:00:01\n",
      "   ------------------------- -------------- 7.7/12.1 MB 7.7 MB/s eta 0:00:01\n",
      "   ------------------------- -------------- 7.8/12.1 MB 7.6 MB/s eta 0:00:01\n",
      "   -------------------------- ------------- 8.1/12.1 MB 7.6 MB/s eta 0:00:01\n",
      "   --------------------------- ------------ 8.4/12.1 MB 7.3 MB/s eta 0:00:01\n",
      "   ---------------------------- ----------- 8.7/12.1 MB 7.3 MB/s eta 0:00:01\n",
      "   ----------------------------- ---------- 9.0/12.1 MB 7.3 MB/s eta 0:00:01\n",
      "   ------------------------------ --------- 9.3/12.1 MB 7.3 MB/s eta 0:00:01\n",
      "   ------------------------------- -------- 9.6/12.1 MB 7.2 MB/s eta 0:00:01\n",
      "   -------------------------------- ------- 9.9/12.1 MB 7.2 MB/s eta 0:00:01\n",
      "   ---------------------------------- ----- 10.3/12.1 MB 7.2 MB/s eta 0:00:01\n",
      "   ----------------------------------- ---- 10.6/12.1 MB 7.2 MB/s eta 0:00:01\n",
      "   ------------------------------------ --- 11.0/12.1 MB 7.9 MB/s eta 0:00:01\n",
      "   ------------------------------------- -- 11.4/12.1 MB 7.6 MB/s eta 0:00:01\n",
      "   -------------------------------------- - 11.7/12.1 MB 7.4 MB/s eta 0:00:01\n",
      "   ---------------------------------------  12.0/12.1 MB 7.4 MB/s eta 0:00:01\n",
      "   ---------------------------------------  12.1/12.1 MB 7.5 MB/s eta 0:00:01\n",
      "   ---------------------------------------- 12.1/12.1 MB 7.2 MB/s eta 0:00:00\n",
      "Downloading catalogue-2.0.10-py3-none-any.whl (17 kB)\n",
      "Downloading cymem-2.0.8-cp310-cp310-win_amd64.whl (39 kB)\n",
      "Downloading langcodes-3.4.0-py3-none-any.whl (182 kB)\n",
      "   ---------------------------------------- 0.0/182.0 kB ? eta -:--:--\n",
      "   --------------------------------------- 182.0/182.0 kB 10.7 MB/s eta 0:00:00\n",
      "Downloading murmurhash-1.0.10-cp310-cp310-win_amd64.whl (25 kB)\n",
      "Downloading preshed-3.0.9-cp310-cp310-win_amd64.whl (122 kB)\n",
      "   ---------------------------------------- 0.0/122.2 kB ? eta -:--:--\n",
      "   ---------------------------------------- 122.2/122.2 kB 7.0 MB/s eta 0:00:00\n",
      "Downloading spacy_legacy-3.0.12-py2.py3-none-any.whl (29 kB)\n",
      "Downloading spacy_loggers-1.0.5-py3-none-any.whl (22 kB)\n",
      "Downloading srsly-2.4.8-cp310-cp310-win_amd64.whl (481 kB)\n",
      "   ---------------------------------------- 0.0/481.9 kB ? eta -:--:--\n",
      "   -------------------------------- ------- 389.1/481.9 kB 8.1 MB/s eta 0:00:01\n",
      "   ---------------------------------------- 481.9/481.9 kB 7.5 MB/s eta 0:00:00\n",
      "Downloading thinc-8.2.4-cp310-cp310-win_amd64.whl (1.5 MB)\n",
      "   ---------------------------------------- 0.0/1.5 MB ? eta -:--:--\n",
      "   --------- ------------------------------ 0.3/1.5 MB 7.2 MB/s eta 0:00:01\n",
      "   ------------------ --------------------- 0.7/1.5 MB 7.4 MB/s eta 0:00:01\n",
      "   ---------------------------- ----------- 1.1/1.5 MB 8.4 MB/s eta 0:00:01\n",
      "   ------------------------------------- -- 1.4/1.5 MB 7.3 MB/s eta 0:00:01\n",
      "   ---------------------------------------- 1.5/1.5 MB 7.3 MB/s eta 0:00:00\n",
      "Downloading typer-0.12.3-py3-none-any.whl (47 kB)\n",
      "   ---------------------------------------- 0.0/47.2 kB ? eta -:--:--\n",
      "   ---------------------------------------- 47.2/47.2 kB ? eta 0:00:00\n",
      "Downloading wasabi-1.1.3-py3-none-any.whl (27 kB)\n",
      "Downloading weasel-0.4.1-py3-none-any.whl (50 kB)\n",
      "   ---------------------------------------- 0.0/50.3 kB ? eta -:--:--\n",
      "   ---------------------------------------- 50.3/50.3 kB ? eta 0:00:00\n",
      "Downloading blis-0.7.11-cp310-cp310-win_amd64.whl (6.6 MB)\n",
      "   ---------------------------------------- 0.0/6.6 MB ? eta -:--:--\n",
      "   -- ------------------------------------- 0.3/6.6 MB 10.9 MB/s eta 0:00:01\n",
      "   ---- ----------------------------------- 0.7/6.6 MB 9.1 MB/s eta 0:00:01\n",
      "   ------ --------------------------------- 1.1/6.6 MB 8.7 MB/s eta 0:00:01\n",
      "   -------- ------------------------------- 1.5/6.6 MB 8.4 MB/s eta 0:00:01\n",
      "   ---------- ----------------------------- 1.8/6.6 MB 8.1 MB/s eta 0:00:01\n",
      "   ------------- -------------------------- 2.2/6.6 MB 8.2 MB/s eta 0:00:01\n",
      "   --------------- ------------------------ 2.5/6.6 MB 8.1 MB/s eta 0:00:01\n",
      "   ----------------- ---------------------- 2.9/6.6 MB 8.0 MB/s eta 0:00:01\n",
      "   ------------------- -------------------- 3.3/6.6 MB 8.0 MB/s eta 0:00:01\n",
      "   ---------------------- ----------------- 3.7/6.6 MB 8.1 MB/s eta 0:00:01\n",
      "   ------------------------ --------------- 4.0/6.6 MB 8.0 MB/s eta 0:00:01\n",
      "   -------------------------- ------------- 4.4/6.6 MB 8.0 MB/s eta 0:00:01\n",
      "   ---------------------------- ----------- 4.8/6.6 MB 8.0 MB/s eta 0:00:01\n",
      "   ------------------------------ --------- 5.1/6.6 MB 8.2 MB/s eta 0:00:01\n",
      "   --------------------------------- ------ 5.5/6.6 MB 8.2 MB/s eta 0:00:01\n",
      "   ----------------------------------- ---- 5.9/6.6 MB 8.2 MB/s eta 0:00:01\n",
      "   ------------------------------------- -- 6.3/6.6 MB 8.2 MB/s eta 0:00:01\n",
      "   ---------------------------------------  6.6/6.6 MB 8.1 MB/s eta 0:00:01\n",
      "   ---------------------------------------- 6.6/6.6 MB 7.8 MB/s eta 0:00:00\n",
      "Downloading cloudpathlib-0.18.1-py3-none-any.whl (47 kB)\n",
      "   ---------------------------------------- 0.0/47.3 kB ? eta -:--:--\n",
      "   ---------------------------------------- 47.3/47.3 kB ? eta 0:00:00\n",
      "Downloading confection-0.1.5-py3-none-any.whl (35 kB)\n",
      "Downloading language_data-1.2.0-py3-none-any.whl (5.4 MB)\n",
      "   ---------------------------------------- 0.0/5.4 MB ? eta -:--:--\n",
      "   -- ------------------------------------- 0.4/5.4 MB 22.4 MB/s eta 0:00:01\n",
      "   ----- ---------------------------------- 0.8/5.4 MB 9.6 MB/s eta 0:00:01\n",
      "   -------- ------------------------------- 1.1/5.4 MB 8.9 MB/s eta 0:00:01\n",
      "   ----------- ---------------------------- 1.5/5.4 MB 8.8 MB/s eta 0:00:01\n",
      "   ------------- -------------------------- 1.8/5.4 MB 8.4 MB/s eta 0:00:01\n",
      "   ---------------- ----------------------- 2.2/5.4 MB 8.4 MB/s eta 0:00:01\n",
      "   ------------------- -------------------- 2.6/5.4 MB 8.3 MB/s eta 0:00:01\n",
      "   ---------------------- ----------------- 3.0/5.4 MB 8.3 MB/s eta 0:00:01\n",
      "   ------------------------- -------------- 3.4/5.4 MB 8.3 MB/s eta 0:00:01\n",
      "   ---------------------------- ----------- 3.8/5.4 MB 8.3 MB/s eta 0:00:01\n",
      "   ------------------------------ --------- 4.1/5.4 MB 8.2 MB/s eta 0:00:01\n",
      "   --------------------------------- ------ 4.5/5.4 MB 8.2 MB/s eta 0:00:01\n",
      "   ------------------------------------ --- 4.9/5.4 MB 8.5 MB/s eta 0:00:01\n",
      "   ---------------------------------------  5.3/5.4 MB 8.5 MB/s eta 0:00:01\n",
      "   ---------------------------------------- 5.4/5.4 MB 8.2 MB/s eta 0:00:00\n",
      "Downloading shellingham-1.5.4-py2.py3-none-any.whl (9.8 kB)\n",
      "Downloading smart_open-7.0.4-py3-none-any.whl (61 kB)\n",
      "   ---------------------------------------- 0.0/61.2 kB ? eta -:--:--\n",
      "   ---------------------------------------- 61.2/61.2 kB 3.4 MB/s eta 0:00:00\n",
      "Downloading marisa_trie-1.2.0-cp310-cp310-win_amd64.whl (152 kB)\n",
      "   ---------------------------------------- 0.0/152.4 kB ? eta -:--:--\n",
      "   ---------------------------------------- 152.4/152.4 kB 4.6 MB/s eta 0:00:00\n",
      "Installing collected packages: cymem, wasabi, spacy-loggers, spacy-legacy, smart-open, shellingham, murmurhash, marisa-trie, fastprogress, fastcore, cloudpathlib, catalogue, blis, srsly, preshed, language-data, fastdownload, typer, langcodes, confection, weasel, thinc, spacy, fastai\n",
      "Successfully installed blis-0.7.11 catalogue-2.0.10 cloudpathlib-0.18.1 confection-0.1.5 cymem-2.0.8 fastai-2.7.15 fastcore-1.5.45 fastdownload-0.0.7 fastprogress-1.0.3 langcodes-3.4.0 language-data-1.2.0 marisa-trie-1.2.0 murmurhash-1.0.10 preshed-3.0.9 shellingham-1.5.4 smart-open-7.0.4 spacy-3.7.5 spacy-legacy-3.0.12 spacy-loggers-1.0.5 srsly-2.4.8 thinc-8.2.4 typer-0.12.3 wasabi-1.1.3 weasel-0.4.1\n",
      "Note: you may need to restart the kernel to use updated packages.\n"
     ]
    }
   ],
   "source": [
    "#pip install fastai"
   ]
  },
  {
   "cell_type": "code",
   "execution_count": 11,
   "metadata": {},
   "outputs": [],
   "source": [
    "from fastai.vision.all import *\n",
    "import os\n",
    "from pathlib import Path\n",
    "\n",
    "from utils.funcs import list_folder, concat_images_labels"
   ]
  },
  {
   "cell_type": "code",
   "execution_count": 12,
   "metadata": {},
   "outputs": [
    {
     "name": "stdout",
     "output_type": "stream",
     "text": [
      "keypoints dataset: ['data.yaml', 'manage_data_keypoints_only.ipynb', 'data', 'label_studio', 'data.csv']\n",
      "data dataset: ['train', 'val', 'test']\n"
     ]
    }
   ],
   "source": [
    "path = Path('../../../data/03_hands_and_feet/keypoints')\n",
    "\n",
    "list_folder(path)\n",
    "list_folder(path/'data')"
   ]
  },
  {
   "cell_type": "code",
   "execution_count": 13,
   "metadata": {},
   "outputs": [],
   "source": [
    "def img2kpts(file):\n",
    "    ext = os.path.splitText(file)\n",
    "    return f'{ext[0]}.txt'"
   ]
  },
  {
   "cell_type": "code",
   "execution_count": null,
   "metadata": {},
   "outputs": [],
   "source": [
    "labels = get_files(path, extensions='.txt')\n",
    "images = get_image_files(path)"
   ]
  },
  {
   "cell_type": "code",
   "execution_count": null,
   "metadata": {},
   "outputs": [],
   "source": [
    "# <num of tips> <num of handles> x1 y1 x2 y2\n",
    "# image label in one folder"
   ]
  },
  {
   "cell_type": "code",
   "execution_count": null,
   "metadata": {},
   "outputs": [],
   "source": []
  },
  {
   "cell_type": "code",
   "execution_count": null,
   "metadata": {},
   "outputs": [],
   "source": []
  },
  {
   "cell_type": "code",
   "execution_count": null,
   "metadata": {},
   "outputs": [],
   "source": []
  },
  {
   "cell_type": "code",
   "execution_count": null,
   "metadata": {},
   "outputs": [],
   "source": []
  },
  {
   "cell_type": "code",
   "execution_count": null,
   "metadata": {},
   "outputs": [],
   "source": []
  },
  {
   "cell_type": "code",
   "execution_count": null,
   "metadata": {},
   "outputs": [],
   "source": []
  },
  {
   "cell_type": "code",
   "execution_count": 1,
   "metadata": {},
   "outputs": [],
   "source": [
    "from pathlib import Path\n",
    "from ultralytics import YOLO\n",
    "\n",
    "from utils.funcs import list_folder, concat_images_labels"
   ]
  },
  {
   "cell_type": "code",
   "execution_count": 2,
   "metadata": {},
   "outputs": [
    {
     "name": "stdout",
     "output_type": "stream",
     "text": [
      "Ultralytics YOLOv8.2.11  Python-3.10.11 torch-2.0.1+cu117 CUDA:0 (NVIDIA GeForce RTX 4070 Laptop GPU, 8188MiB)\n",
      "Setup complete  (20 CPUs, 31.6 GB RAM, 1370.4/3725.9 GB disk)\n"
     ]
    }
   ],
   "source": [
    "import ultralytics\n",
    "ultralytics.checks()"
   ]
  },
  {
   "cell_type": "code",
   "execution_count": 3,
   "metadata": {},
   "outputs": [
    {
     "name": "stdout",
     "output_type": "stream",
     "text": [
      "keypoints dataset: ['data.yaml', 'label_studio', 'manage_data.ipynb', 'data.csv', 'data']\n",
      "data dataset: ['train', 'val', 'test']\n"
     ]
    }
   ],
   "source": [
    "path = Path('../../../data/03_hands_and_feet/keypoints')\n",
    "\n",
    "list_folder(path)\n",
    "list_folder(path/'data')"
   ]
  },
  {
   "cell_type": "code",
   "execution_count": 4,
   "metadata": {},
   "outputs": [],
   "source": [
    "concat_images_labels(path/'data/train')\n",
    "concat_images_labels(path/'data/val')\n",
    "concat_images_labels(path/'data/test')"
   ]
  },
  {
   "cell_type": "code",
   "execution_count": 5,
   "metadata": {},
   "outputs": [],
   "source": [
    "# pretrained\n",
    "model = YOLO('models/YOLOv8m-pose.pt')"
   ]
  },
  {
   "cell_type": "code",
   "execution_count": 6,
   "metadata": {},
   "outputs": [
    {
     "name": "stdout",
     "output_type": "stream",
     "text": [
      "New https://pypi.org/project/ultralytics/8.2.32 available  Update with 'pip install -U ultralytics'\n",
      "Ultralytics YOLOv8.2.11  Python-3.10.11 torch-2.0.1+cu117 CUDA:0 (NVIDIA GeForce RTX 4070 Laptop GPU, 8188MiB)\n",
      "\u001b[34m\u001b[1mengine\\trainer: \u001b[0mtask=pose, mode=train, model=models/YOLOv8m-pose.pt, data=..\\..\\..\\data\\03_hands_and_feet\\keypoints\\data.yaml, epochs=1, time=None, patience=100, batch=16, imgsz=640, save=True, save_period=-1, cache=False, device=None, workers=8, project=None, name=train, exist_ok=False, pretrained=True, optimizer=auto, verbose=True, seed=0, deterministic=True, single_cls=False, rect=False, cos_lr=False, close_mosaic=10, resume=False, amp=True, fraction=1.0, profile=False, freeze=None, multi_scale=False, overlap_mask=True, mask_ratio=4, dropout=0.0, val=True, split=val, save_json=False, save_hybrid=False, conf=None, iou=0.7, max_det=300, half=False, dnn=False, plots=True, source=None, vid_stride=1, stream_buffer=False, visualize=False, augment=False, agnostic_nms=False, classes=None, retina_masks=False, embed=None, show=False, save_frames=False, save_txt=False, save_conf=False, save_crop=False, show_labels=True, show_conf=True, show_boxes=True, line_width=None, format=torchscript, keras=False, optimize=False, int8=False, dynamic=False, simplify=False, opset=None, workspace=4, nms=False, lr0=0.01, lrf=0.01, momentum=0.937, weight_decay=0.0005, warmup_epochs=3.0, warmup_momentum=0.8, warmup_bias_lr=0.1, box=7.5, cls=0.5, dfl=1.5, pose=12.0, kobj=1.0, label_smoothing=0.0, nbs=64, hsv_h=0.015, hsv_s=0.7, hsv_v=0.4, degrees=0.0, translate=0.1, scale=0.5, shear=0.0, perspective=0.0, flipud=0.0, fliplr=0.5, bgr=0.0, mosaic=1.0, mixup=0.0, copy_paste=0.0, auto_augment=randaugment, erasing=0.4, crop_fraction=1.0, cfg=None, tracker=botsort.yaml, save_dir=runs\\pose\\train\n"
     ]
    },
    {
     "ename": "KeyError",
     "evalue": "'kpt_shape'",
     "output_type": "error",
     "traceback": [
      "\u001b[1;31m---------------------------------------------------------------------------\u001b[0m",
      "\u001b[1;31mKeyError\u001b[0m                                  Traceback (most recent call last)",
      "Cell \u001b[1;32mIn[6], line 2\u001b[0m\n\u001b[0;32m      1\u001b[0m \u001b[38;5;66;03m# finetuning\u001b[39;00m\n\u001b[1;32m----> 2\u001b[0m results \u001b[38;5;241m=\u001b[39m \u001b[43mmodel\u001b[49m\u001b[38;5;241;43m.\u001b[39;49m\u001b[43mtrain\u001b[49m\u001b[43m(\u001b[49m\u001b[43mdata\u001b[49m\u001b[38;5;241;43m=\u001b[39;49m\u001b[43mpath\u001b[49m\u001b[38;5;241;43m/\u001b[39;49m\u001b[38;5;124;43m'\u001b[39;49m\u001b[38;5;124;43mdata.yaml\u001b[39;49m\u001b[38;5;124;43m'\u001b[39;49m\u001b[43m,\u001b[49m\u001b[43m \u001b[49m\u001b[43mepochs\u001b[49m\u001b[38;5;241;43m=\u001b[39;49m\u001b[38;5;241;43m1\u001b[39;49m\u001b[43m,\u001b[49m\u001b[43m \u001b[49m\u001b[43mimgsz\u001b[49m\u001b[38;5;241;43m=\u001b[39;49m\u001b[38;5;241;43m640\u001b[39;49m\u001b[43m)\u001b[49m\n",
      "File \u001b[1;32mc:\\Python 3.10.11\\lib\\site-packages\\ultralytics\\engine\\model.py:656\u001b[0m, in \u001b[0;36mModel.train\u001b[1;34m(self, trainer, **kwargs)\u001b[0m\n\u001b[0;32m    654\u001b[0m \u001b[38;5;28mself\u001b[39m\u001b[38;5;241m.\u001b[39mtrainer \u001b[38;5;241m=\u001b[39m (trainer \u001b[38;5;129;01mor\u001b[39;00m \u001b[38;5;28mself\u001b[39m\u001b[38;5;241m.\u001b[39m_smart_load(\u001b[38;5;124m\"\u001b[39m\u001b[38;5;124mtrainer\u001b[39m\u001b[38;5;124m\"\u001b[39m))(overrides\u001b[38;5;241m=\u001b[39margs, _callbacks\u001b[38;5;241m=\u001b[39m\u001b[38;5;28mself\u001b[39m\u001b[38;5;241m.\u001b[39mcallbacks)\n\u001b[0;32m    655\u001b[0m \u001b[38;5;28;01mif\u001b[39;00m \u001b[38;5;129;01mnot\u001b[39;00m args\u001b[38;5;241m.\u001b[39mget(\u001b[38;5;124m\"\u001b[39m\u001b[38;5;124mresume\u001b[39m\u001b[38;5;124m\"\u001b[39m):  \u001b[38;5;66;03m# manually set model only if not resuming\u001b[39;00m\n\u001b[1;32m--> 656\u001b[0m     \u001b[38;5;28mself\u001b[39m\u001b[38;5;241m.\u001b[39mtrainer\u001b[38;5;241m.\u001b[39mmodel \u001b[38;5;241m=\u001b[39m \u001b[38;5;28;43mself\u001b[39;49m\u001b[38;5;241;43m.\u001b[39;49m\u001b[43mtrainer\u001b[49m\u001b[38;5;241;43m.\u001b[39;49m\u001b[43mget_model\u001b[49m\u001b[43m(\u001b[49m\u001b[43mweights\u001b[49m\u001b[38;5;241;43m=\u001b[39;49m\u001b[38;5;28;43mself\u001b[39;49m\u001b[38;5;241;43m.\u001b[39;49m\u001b[43mmodel\u001b[49m\u001b[43m \u001b[49m\u001b[38;5;28;43;01mif\u001b[39;49;00m\u001b[43m \u001b[49m\u001b[38;5;28;43mself\u001b[39;49m\u001b[38;5;241;43m.\u001b[39;49m\u001b[43mckpt\u001b[49m\u001b[43m \u001b[49m\u001b[38;5;28;43;01melse\u001b[39;49;00m\u001b[43m \u001b[49m\u001b[38;5;28;43;01mNone\u001b[39;49;00m\u001b[43m,\u001b[49m\u001b[43m \u001b[49m\u001b[43mcfg\u001b[49m\u001b[38;5;241;43m=\u001b[39;49m\u001b[38;5;28;43mself\u001b[39;49m\u001b[38;5;241;43m.\u001b[39;49m\u001b[43mmodel\u001b[49m\u001b[38;5;241;43m.\u001b[39;49m\u001b[43myaml\u001b[49m\u001b[43m)\u001b[49m\n\u001b[0;32m    657\u001b[0m     \u001b[38;5;28mself\u001b[39m\u001b[38;5;241m.\u001b[39mmodel \u001b[38;5;241m=\u001b[39m \u001b[38;5;28mself\u001b[39m\u001b[38;5;241m.\u001b[39mtrainer\u001b[38;5;241m.\u001b[39mmodel\n\u001b[0;32m    659\u001b[0m     \u001b[38;5;28;01mif\u001b[39;00m SETTINGS[\u001b[38;5;124m\"\u001b[39m\u001b[38;5;124mhub\u001b[39m\u001b[38;5;124m\"\u001b[39m] \u001b[38;5;129;01mis\u001b[39;00m \u001b[38;5;28;01mTrue\u001b[39;00m \u001b[38;5;129;01mand\u001b[39;00m \u001b[38;5;129;01mnot\u001b[39;00m \u001b[38;5;28mself\u001b[39m\u001b[38;5;241m.\u001b[39msession:\n\u001b[0;32m    660\u001b[0m         \u001b[38;5;66;03m# Create a model in HUB\u001b[39;00m\n",
      "File \u001b[1;32mc:\\Python 3.10.11\\lib\\site-packages\\ultralytics\\models\\yolo\\pose\\train.py:40\u001b[0m, in \u001b[0;36mPoseTrainer.get_model\u001b[1;34m(self, cfg, weights, verbose)\u001b[0m\n\u001b[0;32m     38\u001b[0m \u001b[38;5;28;01mdef\u001b[39;00m \u001b[38;5;21mget_model\u001b[39m(\u001b[38;5;28mself\u001b[39m, cfg\u001b[38;5;241m=\u001b[39m\u001b[38;5;28;01mNone\u001b[39;00m, weights\u001b[38;5;241m=\u001b[39m\u001b[38;5;28;01mNone\u001b[39;00m, verbose\u001b[38;5;241m=\u001b[39m\u001b[38;5;28;01mTrue\u001b[39;00m):\n\u001b[0;32m     39\u001b[0m \u001b[38;5;250m    \u001b[39m\u001b[38;5;124;03m\"\"\"Get pose estimation model with specified configuration and weights.\"\"\"\u001b[39;00m\n\u001b[1;32m---> 40\u001b[0m     model \u001b[38;5;241m=\u001b[39m PoseModel(cfg, ch\u001b[38;5;241m=\u001b[39m\u001b[38;5;241m3\u001b[39m, nc\u001b[38;5;241m=\u001b[39m\u001b[38;5;28mself\u001b[39m\u001b[38;5;241m.\u001b[39mdata[\u001b[38;5;124m\"\u001b[39m\u001b[38;5;124mnc\u001b[39m\u001b[38;5;124m\"\u001b[39m], data_kpt_shape\u001b[38;5;241m=\u001b[39m\u001b[38;5;28;43mself\u001b[39;49m\u001b[38;5;241;43m.\u001b[39;49m\u001b[43mdata\u001b[49m\u001b[43m[\u001b[49m\u001b[38;5;124;43m\"\u001b[39;49m\u001b[38;5;124;43mkpt_shape\u001b[39;49m\u001b[38;5;124;43m\"\u001b[39;49m\u001b[43m]\u001b[49m, verbose\u001b[38;5;241m=\u001b[39mverbose)\n\u001b[0;32m     41\u001b[0m     \u001b[38;5;28;01mif\u001b[39;00m weights:\n\u001b[0;32m     42\u001b[0m         model\u001b[38;5;241m.\u001b[39mload(weights)\n",
      "\u001b[1;31mKeyError\u001b[0m: 'kpt_shape'"
     ]
    }
   ],
   "source": [
    "# finetuning\n",
    "results = model.train(data=path/'data.yaml', epochs=1, imgsz=640)"
   ]
  },
  {
   "cell_type": "code",
   "execution_count": null,
   "metadata": {},
   "outputs": [],
   "source": []
  },
  {
   "cell_type": "code",
   "execution_count": null,
   "metadata": {},
   "outputs": [],
   "source": []
  },
  {
   "cell_type": "code",
   "execution_count": null,
   "metadata": {},
   "outputs": [],
   "source": []
  },
  {
   "cell_type": "code",
   "execution_count": null,
   "metadata": {},
   "outputs": [],
   "source": []
  },
  {
   "cell_type": "code",
   "execution_count": null,
   "metadata": {},
   "outputs": [],
   "source": []
  },
  {
   "cell_type": "code",
   "execution_count": null,
   "metadata": {},
   "outputs": [],
   "source": []
  },
  {
   "cell_type": "code",
   "execution_count": null,
   "metadata": {},
   "outputs": [],
   "source": []
  },
  {
   "cell_type": "code",
   "execution_count": null,
   "metadata": {},
   "outputs": [],
   "source": []
  },
  {
   "cell_type": "code",
   "execution_count": null,
   "metadata": {},
   "outputs": [],
   "source": []
  }
 ],
 "metadata": {
  "kernelspec": {
   "display_name": "Python 3",
   "language": "python",
   "name": "python3"
  },
  "language_info": {
   "codemirror_mode": {
    "name": "ipython",
    "version": 3
   },
   "file_extension": ".py",
   "mimetype": "text/x-python",
   "name": "python",
   "nbconvert_exporter": "python",
   "pygments_lexer": "ipython3",
   "version": "3.10.11"
  }
 },
 "nbformat": 4,
 "nbformat_minor": 2
}
