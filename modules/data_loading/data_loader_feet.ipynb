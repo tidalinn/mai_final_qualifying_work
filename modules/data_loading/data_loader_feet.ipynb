{
 "cells": [
  {
   "cell_type": "markdown",
   "id": "4833b947-7105-4697-bf00-fb4bcc893ee4",
   "metadata": {},
   "source": [
    "# Выгрузка фото с веб-страниц"
   ]
  },
  {
   "cell_type": "markdown",
   "id": "f06b5c00-6a4e-492c-9e4d-9e5e532dea5e",
   "metadata": {},
   "source": [
    "Парсер настроен под Microsoft Edge, поэтому необходимо скачать драйвер для корректной работы Selenium:\n",
    "\n",
    "1. Скачать `msedgedriver`, соответствующий версии Microsoft Edge (*Параметры -> О программе Microsoft Edge -> Версия браузера*) с сайта [Microsoft Edge WebDriver](https://developer.microsoft.com/en-us/microsoft-edge/tools/webdriver/?form=MA13LH)\n",
    "2. Извлечь файл `msedgedriver.exe` в папку проекта"
   ]
  },
  {
   "cell_type": "markdown",
   "id": "1b996433-01e2-49aa-9cce-a23b5b845c79",
   "metadata": {},
   "source": [
    "---"
   ]
  },
  {
   "cell_type": "markdown",
   "id": "f7f4df4d-3212-4af6-84d9-7c782e81df88",
   "metadata": {},
   "source": [
    "https://universe.roboflow.com/\n",
    "\n",
    "https://cmu-perceptual-computing-lab.github.io/foot_keypoint_dataset/\n",
    "\n",
    "https://www.gettyimages.com/photos/legs-pov"
   ]
  },
  {
   "cell_type": "markdown",
   "id": "4a7ce651-0744-4ccd-9f94-e37f31f517f3",
   "metadata": {},
   "source": [
    "Импорт библиотек:"
   ]
  },
  {
   "cell_type": "code",
   "execution_count": 1,
   "id": "46e3deb3-b393-4405-901f-08c858694e29",
   "metadata": {},
   "outputs": [],
   "source": [
    "from pathlib import Path\n",
    "\n",
    "from modules.images_parser.yandex_scraper import YandexImagesScraper\n",
    "from modules.images_parser.shutterstock_scraper import ShutterstockImagesScraper\n",
    "from modules.images_parser.istockphoto_scraper import IstockphotoImagesScraper"
   ]
  },
  {
   "cell_type": "markdown",
   "id": "49a17754-e62b-4d86-87ea-82549415d0de",
   "metadata": {},
   "source": [
    "<br>"
   ]
  },
  {
   "cell_type": "markdown",
   "id": "28592e2d-c94e-483c-a02f-f9ea3a8bf5bb",
   "metadata": {},
   "source": [
    "## Парсинг изображений с [yandex.ru/images](https://yandex.ru/images/)"
   ]
  },
  {
   "cell_type": "code",
   "execution_count": 2,
   "id": "8b355eb9-cc62-48e8-b239-1dee3246bbe5",
   "metadata": {},
   "outputs": [
    {
     "data": {
      "application/vnd.jupyter.widget-view+json": {
       "model_id": "0e259ec8485045d980f7bba7d472c359",
       "version_major": 2,
       "version_minor": 0
      },
      "text/plain": [
       "Clicking:   0%|          | 0/200 [00:00<?, ?it/s]"
      ]
     },
     "metadata": {},
     "output_type": "display_data"
    },
    {
     "data": {
      "application/vnd.jupyter.widget-view+json": {
       "model_id": "762ce15dab7243fd82ca6cda566e3380",
       "version_major": 2,
       "version_minor": 0
      },
      "text/plain": [
       "Saving:   0%|          | 0/314 [00:00<?, ?it/s]"
      ]
     },
     "metadata": {},
     "output_type": "display_data"
    },
    {
     "name": "stdout",
     "output_type": "stream",
     "text": [
      "\n",
      "Total error clicks: 1978\n",
      "Total error downloads: 129\n",
      "Total images downloaded: 185\n",
      "Saved to ..\\data\\feet\\no_labels\n"
     ]
    }
   ],
   "source": [
    "yis = YandexImagesScraper(limit=200)\n",
    "yis.scrape_images('First Person Perspective Legs', 8, Path('../data/feet/no_labels'))"
   ]
  },
  {
   "cell_type": "code",
   "execution_count": 3,
   "id": "8056019d-8421-4c77-98a2-99b7dfe7719f",
   "metadata": {},
   "outputs": [
    {
     "data": {
      "application/vnd.jupyter.widget-view+json": {
       "model_id": "60f0c67b3a63437aad2b54a901f2f9f3",
       "version_major": 2,
       "version_minor": 0
      },
      "text/plain": [
       "Clicking:   0%|          | 0/100 [00:00<?, ?it/s]"
      ]
     },
     "metadata": {},
     "output_type": "display_data"
    },
    {
     "data": {
      "application/vnd.jupyter.widget-view+json": {
       "model_id": "d94986c0a89843188daa823bd630e5d6",
       "version_major": 2,
       "version_minor": 0
      },
      "text/plain": [
       "Saving:   0%|          | 0/153 [00:00<?, ?it/s]"
      ]
     },
     "metadata": {},
     "output_type": "display_data"
    },
    {
     "name": "stdout",
     "output_type": "stream",
     "text": [
      "\n",
      "Total error clicks: 848\n",
      "Total error downloads: 40\n",
      "Total images downloaded: 113\n",
      "Saved to ..\\data\\feet\\no_labels\n"
     ]
    }
   ],
   "source": [
    "yis = YandexImagesScraper()\n",
    "yis.scrape_images('First Person Perspective Hands and Legs', 8, Path('../data/feet/no_labels'))"
   ]
  },
  {
   "cell_type": "markdown",
   "id": "3eca21b2-8c01-4d76-8a9e-6437362a69bb",
   "metadata": {},
   "source": [
    "<br>"
   ]
  },
  {
   "cell_type": "markdown",
   "id": "0d2fd3ef-b39b-4d1f-adc0-9928d4205603",
   "metadata": {},
   "source": [
    "## Парсинг изображений с [shutterstock.com](https://www.shutterstock.com/)"
   ]
  },
  {
   "cell_type": "code",
   "execution_count": 4,
   "id": "cf19f18a-2dc1-4625-a29f-41ee3350d370",
   "metadata": {},
   "outputs": [
    {
     "data": {
      "application/vnd.jupyter.widget-view+json": {
       "model_id": "548db2f1ec5d4623aec6fc979e22b2a5",
       "version_major": 2,
       "version_minor": 0
      },
      "text/plain": [
       "Clicking:   0%|          | 0/6 [00:00<?, ?it/s]"
      ]
     },
     "metadata": {},
     "output_type": "display_data"
    },
    {
     "data": {
      "application/vnd.jupyter.widget-view+json": {
       "model_id": "87b1bdc0b0a546afa3ad3a96d4dca783",
       "version_major": 2,
       "version_minor": 0
      },
      "text/plain": [
       "Saving:   0%|          | 0/439 [00:00<?, ?it/s]"
      ]
     },
     "metadata": {},
     "output_type": "display_data"
    },
    {
     "name": "stdout",
     "output_type": "stream",
     "text": [
      "\n",
      "Total error clicks: 0\n",
      "Total error downloads: 0\n",
      "Total images downloaded: 439\n",
      "Saved to ..\\data\\feet\\no_labels\n"
     ]
    }
   ],
   "source": [
    "sis = ShutterstockImagesScraper()\n",
    "sis.scrape_images('first person perspective legs', 6, Path('../data/feet/no_labels'))"
   ]
  },
  {
   "cell_type": "code",
   "execution_count": 5,
   "id": "6d9960bf-8eb3-4f58-9c6f-85b7dd761e91",
   "metadata": {},
   "outputs": [
    {
     "data": {
      "application/vnd.jupyter.widget-view+json": {
       "model_id": "8c4385d8572842c8a7d1f043ca88dacf",
       "version_major": 2,
       "version_minor": 0
      },
      "text/plain": [
       "Clicking:   0%|          | 0/100 [00:00<?, ?it/s]"
      ]
     },
     "metadata": {},
     "output_type": "display_data"
    },
    {
     "data": {
      "application/vnd.jupyter.widget-view+json": {
       "model_id": "b791e04792ef4bea92823de48c449b23",
       "version_major": 2,
       "version_minor": 0
      },
      "text/plain": [
       "Saving:   0%|          | 0/2513 [00:00<?, ?it/s]"
      ]
     },
     "metadata": {},
     "output_type": "display_data"
    },
    {
     "name": "stdout",
     "output_type": "stream",
     "text": [
      "\n",
      "Total error clicks: 0\n",
      "Total error downloads: 18\n",
      "Total images downloaded: 2495\n",
      "Saved to ..\\data\\feet\\no_labels\n"
     ]
    }
   ],
   "source": [
    "sis.scrape_images('legs pov', 100, Path('../data/feet/no_labels'))"
   ]
  },
  {
   "cell_type": "code",
   "execution_count": 6,
   "id": "76010e55-8019-4797-a9ea-55e637a00fb2",
   "metadata": {},
   "outputs": [
    {
     "data": {
      "application/vnd.jupyter.widget-view+json": {
       "model_id": "63f49315be42483e9a2557a157783f76",
       "version_major": 2,
       "version_minor": 0
      },
      "text/plain": [
       "Clicking:   0%|          | 0/5 [00:00<?, ?it/s]"
      ]
     },
     "metadata": {},
     "output_type": "display_data"
    },
    {
     "data": {
      "application/vnd.jupyter.widget-view+json": {
       "model_id": "937fdd117ca1408dbd1dc1dc5c80ba59",
       "version_major": 2,
       "version_minor": 0
      },
      "text/plain": [
       "Saving:   0%|          | 0/370 [00:00<?, ?it/s]"
      ]
     },
     "metadata": {},
     "output_type": "display_data"
    },
    {
     "name": "stdout",
     "output_type": "stream",
     "text": [
      "\n",
      "Total error clicks: 0\n",
      "Total error downloads: 0\n",
      "Total images downloaded: 370\n",
      "Saved to ..\\data\\feet\\no_labels\n"
     ]
    }
   ],
   "source": [
    "sis.scrape_images('legs and hands pov', 5, Path('../data/feet/no_labels'))"
   ]
  },
  {
   "cell_type": "code",
   "execution_count": 8,
   "id": "0f8560ba-8c50-4989-b21e-3111c64c08dd",
   "metadata": {},
   "outputs": [
    {
     "data": {
      "application/vnd.jupyter.widget-view+json": {
       "model_id": "b377ad7458b946a685a1024c8420658e",
       "version_major": 2,
       "version_minor": 0
      },
      "text/plain": [
       "Clicking:   0%|          | 0/30 [00:00<?, ?it/s]"
      ]
     },
     "metadata": {},
     "output_type": "display_data"
    },
    {
     "data": {
      "application/vnd.jupyter.widget-view+json": {
       "model_id": "fdc008986dee4aa3b57b521cd1678add",
       "version_major": 2,
       "version_minor": 0
      },
      "text/plain": [
       "Saving:   0%|          | 0/2188 [00:00<?, ?it/s]"
      ]
     },
     "metadata": {},
     "output_type": "display_data"
    },
    {
     "name": "stdout",
     "output_type": "stream",
     "text": [
      "\n",
      "Total error clicks: 0\n",
      "Total error downloads: 0\n",
      "Total images downloaded: 2188\n",
      "Saved to ..\\data\\feet\\no_labels\n"
     ]
    }
   ],
   "source": [
    "sis.scrape_images('legs first person view', 30, Path('../data/feet/no_labels'))"
   ]
  },
  {
   "cell_type": "code",
   "execution_count": 9,
   "id": "637ff256-0d6a-4c52-8716-b837bfe647bb",
   "metadata": {},
   "outputs": [
    {
     "data": {
      "application/vnd.jupyter.widget-view+json": {
       "model_id": "86940440c812471b94d6d3b8c2ef3df9",
       "version_major": 2,
       "version_minor": 0
      },
      "text/plain": [
       "Clicking:   0%|          | 0/10 [00:00<?, ?it/s]"
      ]
     },
     "metadata": {},
     "output_type": "display_data"
    },
    {
     "data": {
      "application/vnd.jupyter.widget-view+json": {
       "model_id": "00f38964c6cd44b6925e623954ced20c",
       "version_major": 2,
       "version_minor": 0
      },
      "text/plain": [
       "Saving:   0%|          | 0/891 [00:00<?, ?it/s]"
      ]
     },
     "metadata": {},
     "output_type": "display_data"
    },
    {
     "name": "stdout",
     "output_type": "stream",
     "text": [
      "\n",
      "Total error clicks: 0\n",
      "Total error downloads: 0\n",
      "Total images downloaded: 891\n",
      "Saved to ..\\data\\feet\\no_labels\n"
     ]
    }
   ],
   "source": [
    "sis.scrape_images('walking legs first person view', 10, Path('../data/feet/no_labels'))"
   ]
  },
  {
   "cell_type": "code",
   "execution_count": 10,
   "id": "c99d116f-78c0-4f15-b0a0-41f7a24a7840",
   "metadata": {},
   "outputs": [
    {
     "data": {
      "application/vnd.jupyter.widget-view+json": {
       "model_id": "34c3f5c450e449009bd68bc6e1d0d845",
       "version_major": 2,
       "version_minor": 0
      },
      "text/plain": [
       "Clicking:   0%|          | 0/10 [00:00<?, ?it/s]"
      ]
     },
     "metadata": {},
     "output_type": "display_data"
    },
    {
     "data": {
      "application/vnd.jupyter.widget-view+json": {
       "model_id": "0c91374f9b474730821a9faed8c5a933",
       "version_major": 2,
       "version_minor": 0
      },
      "text/plain": [
       "Saving:   0%|          | 0/30 [00:00<?, ?it/s]"
      ]
     },
     "metadata": {},
     "output_type": "display_data"
    },
    {
     "name": "stdout",
     "output_type": "stream",
     "text": [
      "\n",
      "Total error clicks: 0\n",
      "Total error downloads: 0\n",
      "Total images downloaded: 30\n",
      "Saved to ..\\data\\feet\\no_labels\n"
     ]
    }
   ],
   "source": [
    "sis.scrape_images('ball legs pov', 10, Path('../data/feet/no_labels'))"
   ]
  },
  {
   "cell_type": "code",
   "execution_count": 11,
   "id": "80995945-e754-4fb6-93fe-1917c7cb9397",
   "metadata": {},
   "outputs": [
    {
     "data": {
      "application/vnd.jupyter.widget-view+json": {
       "model_id": "6712c63a85904f159c2b6c0e3cdcd52e",
       "version_major": 2,
       "version_minor": 0
      },
      "text/plain": [
       "Clicking:   0%|          | 0/1 [00:00<?, ?it/s]"
      ]
     },
     "metadata": {},
     "output_type": "display_data"
    },
    {
     "data": {
      "application/vnd.jupyter.widget-view+json": {
       "model_id": "d75c7ab3e30f42b197fbc88719fb1d4d",
       "version_major": 2,
       "version_minor": 0
      },
      "text/plain": [
       "Saving:   0%|          | 0/77 [00:00<?, ?it/s]"
      ]
     },
     "metadata": {},
     "output_type": "display_data"
    },
    {
     "name": "stdout",
     "output_type": "stream",
     "text": [
      "\n",
      "Total error clicks: 0\n",
      "Total error downloads: 0\n",
      "Total images downloaded: 77\n",
      "Saved to ..\\data\\feet\\no_labels\n"
     ]
    }
   ],
   "source": [
    "sis.scrape_images('playing legs pov', 1, Path('../data/feet/no_labels'))"
   ]
  },
  {
   "cell_type": "code",
   "execution_count": 12,
   "id": "0d94ca19-92fa-41aa-a024-0a211a02a5ff",
   "metadata": {},
   "outputs": [
    {
     "data": {
      "application/vnd.jupyter.widget-view+json": {
       "model_id": "41b14ecafef1460b8ef8429cc68e8efc",
       "version_major": 2,
       "version_minor": 0
      },
      "text/plain": [
       "Clicking:   0%|          | 0/5 [00:00<?, ?it/s]"
      ]
     },
     "metadata": {},
     "output_type": "display_data"
    },
    {
     "data": {
      "application/vnd.jupyter.widget-view+json": {
       "model_id": "b07431ec6a724a67878e18c3f0667b0e",
       "version_major": 2,
       "version_minor": 0
      },
      "text/plain": [
       "Saving:   0%|          | 0/404 [00:00<?, ?it/s]"
      ]
     },
     "metadata": {},
     "output_type": "display_data"
    },
    {
     "name": "stdout",
     "output_type": "stream",
     "text": [
      "\n",
      "Total error clicks: 0\n",
      "Total error downloads: 0\n",
      "Total images downloaded: 404\n",
      "Saved to ..\\data\\feet\\no_labels\n"
     ]
    }
   ],
   "source": [
    "sis.scrape_images('first person view hands and legs', 5, Path('../data/feet/no_labels'))"
   ]
  },
  {
   "cell_type": "code",
   "execution_count": 13,
   "id": "a4998f05-ba64-42a2-9b91-cb0dd014fa90",
   "metadata": {},
   "outputs": [
    {
     "data": {
      "application/vnd.jupyter.widget-view+json": {
       "model_id": "587b94fa6afd49179e1f67a49375ffbe",
       "version_major": 2,
       "version_minor": 0
      },
      "text/plain": [
       "Clicking:   0%|          | 0/10 [00:00<?, ?it/s]"
      ]
     },
     "metadata": {},
     "output_type": "display_data"
    },
    {
     "data": {
      "application/vnd.jupyter.widget-view+json": {
       "model_id": "b1ed5cb0bb204dc2b665135ec2debc64",
       "version_major": 2,
       "version_minor": 0
      },
      "text/plain": [
       "Saving:   0%|          | 0/905 [00:00<?, ?it/s]"
      ]
     },
     "metadata": {},
     "output_type": "display_data"
    },
    {
     "name": "stdout",
     "output_type": "stream",
     "text": [
      "\n",
      "Total error clicks: 0\n",
      "Total error downloads: 22\n",
      "Total images downloaded: 883\n",
      "Saved to ..\\data\\feet\\no_labels\n"
     ]
    }
   ],
   "source": [
    "sis.scrape_images('personal perspective legs', 10, Path('../data/feet/no_labels'))"
   ]
  },
  {
   "cell_type": "markdown",
   "id": "2e133581-58f1-4b16-b0f9-11672a6f4d63",
   "metadata": {},
   "source": [
    "<br>"
   ]
  },
  {
   "cell_type": "markdown",
   "id": "0a48dcb7-2002-4daa-9240-cd34a6c2aebb",
   "metadata": {},
   "source": [
    "## Парсинг изображений с [istockphoto.com](https://www.istockphoto.com/ru/)"
   ]
  },
  {
   "cell_type": "code",
   "execution_count": 14,
   "id": "bb6ac105-4467-406c-8275-176df2b59869",
   "metadata": {},
   "outputs": [
    {
     "data": {
      "application/vnd.jupyter.widget-view+json": {
       "model_id": "71f16906a6a04f4f8366a0315c883096",
       "version_major": 2,
       "version_minor": 0
      },
      "text/plain": [
       "Clicking:   0%|          | 0/100 [00:00<?, ?it/s]"
      ]
     },
     "metadata": {},
     "output_type": "display_data"
    },
    {
     "data": {
      "application/vnd.jupyter.widget-view+json": {
       "model_id": "0130b55cdba24a5ba873e627bcb2e290",
       "version_major": 2,
       "version_minor": 0
      },
      "text/plain": [
       "Saving:   0%|          | 0/5200 [00:00<?, ?it/s]"
      ]
     },
     "metadata": {},
     "output_type": "display_data"
    },
    {
     "name": "stdout",
     "output_type": "stream",
     "text": [
      "\n",
      "Total error clicks: 0\n",
      "Total error downloads: 0\n",
      "Total images downloaded: 5200\n",
      "Saved to ..\\data\\feet\\no_labels\n"
     ]
    }
   ],
   "source": [
    "iis = IstockphotoImagesScraper()\n",
    "iis.scrape_images('personal perspective legs', 100, Path('../data/feet/no_labels'))"
   ]
  },
  {
   "cell_type": "code",
   "execution_count": 15,
   "id": "8676b29d-f7a3-403a-9220-960874dd2d2e",
   "metadata": {},
   "outputs": [
    {
     "data": {
      "application/vnd.jupyter.widget-view+json": {
       "model_id": "3b2190ebd4064cbda4da12f2a9e4eb79",
       "version_major": 2,
       "version_minor": 0
      },
      "text/plain": [
       "Clicking:   0%|          | 0/100 [00:00<?, ?it/s]"
      ]
     },
     "metadata": {},
     "output_type": "display_data"
    },
    {
     "data": {
      "application/vnd.jupyter.widget-view+json": {
       "model_id": "a497f799c4014d35a7515004d52bfb18",
       "version_major": 2,
       "version_minor": 0
      },
      "text/plain": [
       "Saving:   0%|          | 0/5200 [00:00<?, ?it/s]"
      ]
     },
     "metadata": {},
     "output_type": "display_data"
    },
    {
     "name": "stdout",
     "output_type": "stream",
     "text": [
      "\n",
      "Total error clicks: 0\n",
      "Total error downloads: 0\n",
      "Total images downloaded: 5200\n",
      "Saved to ..\\data\\feet\\no_labels\n"
     ]
    }
   ],
   "source": [
    "iis.scrape_images('legs pov', 100, Path('../data/feet/no_labels'))"
   ]
  },
  {
   "cell_type": "code",
   "execution_count": 16,
   "id": "32d92489-346a-4297-bb7f-0bc8dcbab569",
   "metadata": {},
   "outputs": [
    {
     "data": {
      "application/vnd.jupyter.widget-view+json": {
       "model_id": "59ac586dffe5417da17f618a7a59fbd4",
       "version_major": 2,
       "version_minor": 0
      },
      "text/plain": [
       "Clicking:   0%|          | 0/30 [00:00<?, ?it/s]"
      ]
     },
     "metadata": {},
     "output_type": "display_data"
    },
    {
     "data": {
      "application/vnd.jupyter.widget-view+json": {
       "model_id": "3f0635532ede4937b0d62ee177e1301a",
       "version_major": 2,
       "version_minor": 0
      },
      "text/plain": [
       "Saving:   0%|          | 0/810 [00:00<?, ?it/s]"
      ]
     },
     "metadata": {},
     "output_type": "display_data"
    },
    {
     "name": "stdout",
     "output_type": "stream",
     "text": [
      "\n",
      "Total error clicks: 0\n",
      "Total error downloads: 0\n",
      "Total images downloaded: 810\n",
      "Saved to ..\\data\\feet\\no_labels\n"
     ]
    }
   ],
   "source": [
    "iis.scrape_images('legs and hands pov', 30, Path('../data/feet/no_labels'))"
   ]
  },
  {
   "cell_type": "code",
   "execution_count": 17,
   "id": "29eb9df2-cbce-4548-995a-285a50d265cd",
   "metadata": {},
   "outputs": [
    {
     "data": {
      "application/vnd.jupyter.widget-view+json": {
       "model_id": "49be3de954a2481cbde5d9add5b5690b",
       "version_major": 2,
       "version_minor": 0
      },
      "text/plain": [
       "Clicking:   0%|          | 0/25 [00:00<?, ?it/s]"
      ]
     },
     "metadata": {},
     "output_type": "display_data"
    },
    {
     "data": {
      "application/vnd.jupyter.widget-view+json": {
       "model_id": "3a0f3f51693a4477805b029aee944b6c",
       "version_major": 2,
       "version_minor": 0
      },
      "text/plain": [
       "Saving:   0%|          | 0/317 [00:00<?, ?it/s]"
      ]
     },
     "metadata": {},
     "output_type": "display_data"
    },
    {
     "name": "stdout",
     "output_type": "stream",
     "text": [
      "\n",
      "Total error clicks: 0\n",
      "Total error downloads: 0\n",
      "Total images downloaded: 317\n",
      "Saved to ..\\data\\feet\\no_labels\n"
     ]
    }
   ],
   "source": [
    "iis.scrape_images('legs first person view', 25, Path('../data/feet/no_labels'))"
   ]
  },
  {
   "cell_type": "code",
   "execution_count": 18,
   "id": "25ade1c3-0c7c-4c5f-8b66-949d1cb54b4b",
   "metadata": {},
   "outputs": [
    {
     "data": {
      "application/vnd.jupyter.widget-view+json": {
       "model_id": "17e2b1e547004f748a4e2e023175cfba",
       "version_major": 2,
       "version_minor": 0
      },
      "text/plain": [
       "Clicking:   0%|          | 0/10 [00:00<?, ?it/s]"
      ]
     },
     "metadata": {},
     "output_type": "display_data"
    },
    {
     "data": {
      "application/vnd.jupyter.widget-view+json": {
       "model_id": "9bc7d1a7de704ebe806ffc71e14a7b24",
       "version_major": 2,
       "version_minor": 0
      },
      "text/plain": [
       "Saving:   0%|          | 0/66 [00:00<?, ?it/s]"
      ]
     },
     "metadata": {},
     "output_type": "display_data"
    },
    {
     "name": "stdout",
     "output_type": "stream",
     "text": [
      "\n",
      "Total error clicks: 0\n",
      "Total error downloads: 0\n",
      "Total images downloaded: 66\n",
      "Saved to ..\\data\\feet\\no_labels\n"
     ]
    }
   ],
   "source": [
    "iis.scrape_images('walking legs first person view', 10, Path('../data/feet/no_labels'))"
   ]
  },
  {
   "cell_type": "code",
   "execution_count": 19,
   "id": "4678423f-401d-4b28-9f0b-879f9438fd97",
   "metadata": {},
   "outputs": [
    {
     "data": {
      "application/vnd.jupyter.widget-view+json": {
       "model_id": "c84d438f3f6c4f178abc9ee82b69b924",
       "version_major": 2,
       "version_minor": 0
      },
      "text/plain": [
       "Clicking:   0%|          | 0/25 [00:00<?, ?it/s]"
      ]
     },
     "metadata": {},
     "output_type": "display_data"
    },
    {
     "data": {
      "application/vnd.jupyter.widget-view+json": {
       "model_id": "958fcf16faaf4b1dbebddab1210b6cf4",
       "version_major": 2,
       "version_minor": 0
      },
      "text/plain": [
       "Saving:   0%|          | 0/655 [00:00<?, ?it/s]"
      ]
     },
     "metadata": {},
     "output_type": "display_data"
    },
    {
     "name": "stdout",
     "output_type": "stream",
     "text": [
      "\n",
      "Total error clicks: 0\n",
      "Total error downloads: 0\n",
      "Total images downloaded: 655\n",
      "Saved to ..\\data\\feet\\no_labels\n"
     ]
    }
   ],
   "source": [
    "iis.scrape_images('playing legs pov', 25, Path('../data/feet/no_labels'))"
   ]
  },
  {
   "cell_type": "code",
   "execution_count": 20,
   "id": "a3c5d140-3959-4088-9af1-9943caa81211",
   "metadata": {},
   "outputs": [
    {
     "data": {
      "application/vnd.jupyter.widget-view+json": {
       "model_id": "af080e7553f946e8a102cc7128b1fae2",
       "version_major": 2,
       "version_minor": 0
      },
      "text/plain": [
       "Clicking:   0%|          | 0/100 [00:00<?, ?it/s]"
      ]
     },
     "metadata": {},
     "output_type": "display_data"
    },
    {
     "data": {
      "application/vnd.jupyter.widget-view+json": {
       "model_id": "435c88e91ee3482cb349ce1e2ae35086",
       "version_major": 2,
       "version_minor": 0
      },
      "text/plain": [
       "Saving:   0%|          | 0/5862 [00:00<?, ?it/s]"
      ]
     },
     "metadata": {},
     "output_type": "display_data"
    },
    {
     "name": "stdout",
     "output_type": "stream",
     "text": [
      "\n",
      "Total error clicks: 0\n",
      "Total error downloads: 1\n",
      "Total images downloaded: 5861\n",
      "Saved to ..\\data\\feet\\no_labels\n"
     ]
    }
   ],
   "source": [
    "iis.scrape_images('first person view hands and legs', 100, Path('../data/feet/no_labels'))"
   ]
  },
  {
   "cell_type": "code",
   "execution_count": null,
   "id": "52e35a37-0374-4d61-abe7-33ccda195bd7",
   "metadata": {},
   "outputs": [],
   "source": []
  }
 ],
 "metadata": {
  "kernelspec": {
   "display_name": "Python 3 (ipykernel)",
   "language": "python",
   "name": "python3"
  },
  "language_info": {
   "codemirror_mode": {
    "name": "ipython",
    "version": 3
   },
   "file_extension": ".py",
   "mimetype": "text/x-python",
   "name": "python",
   "nbconvert_exporter": "python",
   "pygments_lexer": "ipython3",
   "version": "3.10.11"
  }
 },
 "nbformat": 4,
 "nbformat_minor": 5
}
