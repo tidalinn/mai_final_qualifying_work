{
 "cells": [
  {
   "cell_type": "markdown",
   "id": "4833b947-7105-4697-bf00-fb4bcc893ee4",
   "metadata": {},
   "source": [
    "# Выгрузка фото с веб-страниц"
   ]
  },
  {
   "cell_type": "markdown",
   "id": "f06b5c00-6a4e-492c-9e4d-9e5e532dea5e",
   "metadata": {},
   "source": [
    "Парсер настроен под Microsoft Edge, поэтому необходимо скачать драйвер для корректной работы Selenium:\n",
    "\n",
    "1. Скачать `msedgedriver`, соответствующий версии Microsoft Edge (*Параметры -> О программе Microsoft Edge -> Версия браузера*) с сайта [Microsoft Edge WebDriver](https://developer.microsoft.com/en-us/microsoft-edge/tools/webdriver/?form=MA13LH)\n",
    "2. Извлечь файл `msedgedriver.exe` в папку проекта"
   ]
  },
  {
   "cell_type": "markdown",
   "id": "1b996433-01e2-49aa-9cce-a23b5b845c79",
   "metadata": {},
   "source": [
    "---"
   ]
  },
  {
   "cell_type": "markdown",
   "id": "f7f4df4d-3212-4af6-84d9-7c782e81df88",
   "metadata": {},
   "source": [
    "https://universe.roboflow.com/\n",
    "\n",
    "https://cmu-perceptual-computing-lab.github.io/foot_keypoint_dataset/\n",
    "\n",
    "https://www.gettyimages.com/photos/legs-pov"
   ]
  },
  {
   "cell_type": "markdown",
   "id": "4a7ce651-0744-4ccd-9f94-e37f31f517f3",
   "metadata": {},
   "source": [
    "Импорт библиотек:"
   ]
  },
  {
   "cell_type": "code",
   "execution_count": 1,
   "id": "46e3deb3-b393-4405-901f-08c858694e29",
   "metadata": {},
   "outputs": [],
   "source": [
    "from pathlib import Path\n",
    "\n",
    "from modules.images_parser.yandex_scraper import YandexImagesScraper\n",
    "from modules.images_parser.shutterstock_scraper import ShutterstockImagesScraper\n",
    "from modules.images_parser.istockphoto_scraper import IstockphotoImagesScraper"
   ]
  },
  {
   "cell_type": "markdown",
   "id": "49a17754-e62b-4d86-87ea-82549415d0de",
   "metadata": {},
   "source": [
    "<br>"
   ]
  },
  {
   "cell_type": "markdown",
   "id": "28592e2d-c94e-483c-a02f-f9ea3a8bf5bb",
   "metadata": {},
   "source": [
    "## Парсинг изображений с [yandex.ru/images](https://yandex.ru/images/)"
   ]
  },
  {
   "cell_type": "code",
   "execution_count": 3,
   "id": "8b355eb9-cc62-48e8-b239-1dee3246bbe5",
   "metadata": {},
   "outputs": [
    {
     "data": {
      "application/vnd.jupyter.widget-view+json": {
       "model_id": "47ed396898d44208904faf26dd679360",
       "version_major": 2,
       "version_minor": 0
      },
      "text/plain": [
       "Clicking:   0%|          | 0/200 [00:00<?, ?it/s]"
      ]
     },
     "metadata": {},
     "output_type": "display_data"
    },
    {
     "data": {
      "application/vnd.jupyter.widget-view+json": {
       "model_id": "931bec5b36ae4f5e95ecefa31d6bf0b1",
       "version_major": 2,
       "version_minor": 0
      },
      "text/plain": [
       "Saving:   0%|          | 0/255 [00:00<?, ?it/s]"
      ]
     },
     "metadata": {},
     "output_type": "display_data"
    },
    {
     "name": "stdout",
     "output_type": "stream",
     "text": [
      "\n",
      "Total error clicks: 875\n",
      "Total error downloads: 74\n",
      "Total images downloaded: 181\n",
      "Saved to data\\hands\\no_labels\n"
     ]
    }
   ],
   "source": [
    "yis = YandexImagesScraper(limit=200)\n",
    "yis.scrape_images('First Person Perspective Hands', 8, Path('data/hands/no_labels'))"
   ]
  },
  {
   "cell_type": "markdown",
   "id": "3eca21b2-8c01-4d76-8a9e-6437362a69bb",
   "metadata": {},
   "source": [
    "<br>"
   ]
  },
  {
   "cell_type": "markdown",
   "id": "0d2fd3ef-b39b-4d1f-adc0-9928d4205603",
   "metadata": {},
   "source": [
    "## Парсинг изображений с [shutterstock.com](https://www.shutterstock.com/)"
   ]
  },
  {
   "cell_type": "code",
   "execution_count": 4,
   "id": "cf19f18a-2dc1-4625-a29f-41ee3350d370",
   "metadata": {},
   "outputs": [
    {
     "data": {
      "application/vnd.jupyter.widget-view+json": {
       "model_id": "9dff522081cb4a27969b1d72b2781574",
       "version_major": 2,
       "version_minor": 0
      },
      "text/plain": [
       "Clicking:   0%|          | 0/20 [00:00<?, ?it/s]"
      ]
     },
     "metadata": {},
     "output_type": "display_data"
    },
    {
     "data": {
      "application/vnd.jupyter.widget-view+json": {
       "model_id": "3e6ecfed1fe34f41b83a085e1c29928b",
       "version_major": 2,
       "version_minor": 0
      },
      "text/plain": [
       "Saving:   0%|          | 0/1633 [00:00<?, ?it/s]"
      ]
     },
     "metadata": {},
     "output_type": "display_data"
    },
    {
     "name": "stdout",
     "output_type": "stream",
     "text": [
      "\n",
      "Total error clicks: 0\n",
      "Total error downloads: 29\n",
      "Total images downloaded: 1604\n",
      "Saved to data\\hands\\no_labels\n"
     ]
    }
   ],
   "source": [
    "sis = ShutterstockImagesScraper()\n",
    "sis.scrape_images('first person perspective hands', 20, Path('data/hands/no_labels'))"
   ]
  },
  {
   "cell_type": "code",
   "execution_count": 5,
   "id": "6d9960bf-8eb3-4f58-9c6f-85b7dd761e91",
   "metadata": {},
   "outputs": [
    {
     "data": {
      "application/vnd.jupyter.widget-view+json": {
       "model_id": "8975315f6838418ba4fcc1050aef5098",
       "version_major": 2,
       "version_minor": 0
      },
      "text/plain": [
       "Clicking:   0%|          | 0/230 [00:00<?, ?it/s]"
      ]
     },
     "metadata": {},
     "output_type": "display_data"
    },
    {
     "data": {
      "application/vnd.jupyter.widget-view+json": {
       "model_id": "d49881e0a5f34fde8d8290dd41b7c289",
       "version_major": 2,
       "version_minor": 0
      },
      "text/plain": [
       "Saving:   0%|          | 0/10785 [00:00<?, ?it/s]"
      ]
     },
     "metadata": {},
     "output_type": "display_data"
    },
    {
     "name": "stdout",
     "output_type": "stream",
     "text": [
      "\n",
      "Total error clicks: 0\n",
      "Total error downloads: 54\n",
      "Total images downloaded: 10731\n",
      "Saved to data\\hands\\no_labels\n"
     ]
    }
   ],
   "source": [
    "sis.scrape_images('hands pov', 230, Path('data/hands/no_labels'))"
   ]
  },
  {
   "cell_type": "code",
   "execution_count": 7,
   "id": "0f8560ba-8c50-4989-b21e-3111c64c08dd",
   "metadata": {},
   "outputs": [
    {
     "data": {
      "application/vnd.jupyter.widget-view+json": {
       "model_id": "caaa154554de4ad2b071c3b461413e3c",
       "version_major": 2,
       "version_minor": 0
      },
      "text/plain": [
       "Clicking:   0%|          | 0/150 [00:00<?, ?it/s]"
      ]
     },
     "metadata": {},
     "output_type": "display_data"
    },
    {
     "data": {
      "application/vnd.jupyter.widget-view+json": {
       "model_id": "f0afd992f44446e2a8a82397290ca514",
       "version_major": 2,
       "version_minor": 0
      },
      "text/plain": [
       "Saving:   0%|          | 0/2568 [00:00<?, ?it/s]"
      ]
     },
     "metadata": {},
     "output_type": "display_data"
    },
    {
     "name": "stdout",
     "output_type": "stream",
     "text": [
      "\n",
      "Total error clicks: 0\n",
      "Total error downloads: 2\n",
      "Total images downloaded: 2566\n",
      "Saved to data\\hands\\no_labels\n"
     ]
    }
   ],
   "source": [
    "sis.scrape_images('hands first person view', 150, Path('data/hands/no_labels'))"
   ]
  },
  {
   "cell_type": "code",
   "execution_count": 8,
   "id": "637ff256-0d6a-4c52-8716-b837bfe647bb",
   "metadata": {},
   "outputs": [
    {
     "data": {
      "application/vnd.jupyter.widget-view+json": {
       "model_id": "edb5cbabe5c84165baa0b5ed047a890e",
       "version_major": 2,
       "version_minor": 0
      },
      "text/plain": [
       "Clicking:   0%|          | 0/5 [00:00<?, ?it/s]"
      ]
     },
     "metadata": {},
     "output_type": "display_data"
    },
    {
     "data": {
      "application/vnd.jupyter.widget-view+json": {
       "model_id": "1f92e7ec05354feeba4cb4a6a33486f2",
       "version_major": 2,
       "version_minor": 0
      },
      "text/plain": [
       "Saving:   0%|          | 0/80 [00:00<?, ?it/s]"
      ]
     },
     "metadata": {},
     "output_type": "display_data"
    },
    {
     "name": "stdout",
     "output_type": "stream",
     "text": [
      "\n",
      "Total error clicks: 0\n",
      "Total error downloads: 0\n",
      "Total images downloaded: 80\n",
      "Saved to data\\hands\\no_labels\n"
     ]
    }
   ],
   "source": [
    "sis.scrape_images('moving hands first person view', 5, Path('data/hands/no_labels'))"
   ]
  },
  {
   "cell_type": "code",
   "execution_count": 9,
   "id": "80995945-e754-4fb6-93fe-1917c7cb9397",
   "metadata": {},
   "outputs": [
    {
     "data": {
      "application/vnd.jupyter.widget-view+json": {
       "model_id": "304e11c82c68496583156599fe25d3f8",
       "version_major": 2,
       "version_minor": 0
      },
      "text/plain": [
       "Clicking:   0%|          | 0/15 [00:00<?, ?it/s]"
      ]
     },
     "metadata": {},
     "output_type": "display_data"
    },
    {
     "data": {
      "application/vnd.jupyter.widget-view+json": {
       "model_id": "7eaf0556df0f43a7a20ae4deafecb7f5",
       "version_major": 2,
       "version_minor": 0
      },
      "text/plain": [
       "Saving:   0%|          | 0/275 [00:00<?, ?it/s]"
      ]
     },
     "metadata": {},
     "output_type": "display_data"
    },
    {
     "name": "stdout",
     "output_type": "stream",
     "text": [
      "\n",
      "Total error clicks: 0\n",
      "Total error downloads: 0\n",
      "Total images downloaded: 275\n",
      "Saved to data\\hands\\no_labels\n"
     ]
    }
   ],
   "source": [
    "sis.scrape_images('playing hands pov', 15, Path('data/hands/no_labels'))"
   ]
  },
  {
   "cell_type": "code",
   "execution_count": 10,
   "id": "a4998f05-ba64-42a2-9b91-cb0dd014fa90",
   "metadata": {},
   "outputs": [
    {
     "data": {
      "application/vnd.jupyter.widget-view+json": {
       "model_id": "4578d7bc97f54a80bfd66fd2eed8e5a4",
       "version_major": 2,
       "version_minor": 0
      },
      "text/plain": [
       "Clicking:   0%|          | 0/60 [00:00<?, ?it/s]"
      ]
     },
     "metadata": {},
     "output_type": "display_data"
    },
    {
     "data": {
      "application/vnd.jupyter.widget-view+json": {
       "model_id": "d6abb40c520d469592e1d161ac244fc9",
       "version_major": 2,
       "version_minor": 0
      },
      "text/plain": [
       "Saving:   0%|          | 0/1080 [00:00<?, ?it/s]"
      ]
     },
     "metadata": {},
     "output_type": "display_data"
    },
    {
     "name": "stdout",
     "output_type": "stream",
     "text": [
      "\n",
      "Total error clicks: 0\n",
      "Total error downloads: 1\n",
      "Total images downloaded: 1079\n",
      "Saved to data\\hands\\no_labels\n"
     ]
    }
   ],
   "source": [
    "sis.scrape_images('personal perspective hands', 60, Path('data/hands/no_labels'))"
   ]
  },
  {
   "cell_type": "markdown",
   "id": "2e133581-58f1-4b16-b0f9-11672a6f4d63",
   "metadata": {},
   "source": [
    "<br>"
   ]
  },
  {
   "cell_type": "markdown",
   "id": "0a48dcb7-2002-4daa-9240-cd34a6c2aebb",
   "metadata": {},
   "source": [
    "## Парсинг изображений с [istockphoto.com](https://www.istockphoto.com/ru/)"
   ]
  },
  {
   "cell_type": "code",
   "execution_count": 11,
   "id": "bb6ac105-4467-406c-8275-176df2b59869",
   "metadata": {},
   "outputs": [
    {
     "data": {
      "application/vnd.jupyter.widget-view+json": {
       "model_id": "00df10d503bf4086adf96352d66770e2",
       "version_major": 2,
       "version_minor": 0
      },
      "text/plain": [
       "Clicking:   0%|          | 0/100 [00:00<?, ?it/s]"
      ]
     },
     "metadata": {},
     "output_type": "display_data"
    },
    {
     "data": {
      "application/vnd.jupyter.widget-view+json": {
       "model_id": "14915c85e06d486c815972415a2d023c",
       "version_major": 2,
       "version_minor": 0
      },
      "text/plain": [
       "Saving:   0%|          | 0/5200 [00:00<?, ?it/s]"
      ]
     },
     "metadata": {},
     "output_type": "display_data"
    },
    {
     "name": "stdout",
     "output_type": "stream",
     "text": [
      "\n",
      "Total error clicks: 0\n",
      "Total error downloads: 0\n",
      "Total images downloaded: 5200\n",
      "Saved to data\\hands\\no_labels\n"
     ]
    }
   ],
   "source": [
    "iis = IstockphotoImagesScraper()\n",
    "iis.scrape_images('personal perspective hands', 100, Path('data/hands/no_labels'))"
   ]
  },
  {
   "cell_type": "code",
   "execution_count": 12,
   "id": "8676b29d-f7a3-403a-9220-960874dd2d2e",
   "metadata": {},
   "outputs": [
    {
     "data": {
      "application/vnd.jupyter.widget-view+json": {
       "model_id": "bf7db1bcd8aa41f48aa6d63e341ce713",
       "version_major": 2,
       "version_minor": 0
      },
      "text/plain": [
       "Clicking:   0%|          | 0/100 [00:00<?, ?it/s]"
      ]
     },
     "metadata": {},
     "output_type": "display_data"
    },
    {
     "data": {
      "application/vnd.jupyter.widget-view+json": {
       "model_id": "2710b9f722d2471eaba8281f0b002672",
       "version_major": 2,
       "version_minor": 0
      },
      "text/plain": [
       "Saving:   0%|          | 0/5200 [00:00<?, ?it/s]"
      ]
     },
     "metadata": {},
     "output_type": "display_data"
    },
    {
     "name": "stdout",
     "output_type": "stream",
     "text": [
      "\n",
      "Total error clicks: 0\n",
      "Total error downloads: 0\n",
      "Total images downloaded: 5200\n",
      "Saved to data\\hands\\no_labels\n"
     ]
    }
   ],
   "source": [
    "iis.scrape_images('hands pov', 100, Path('data/hands/no_labels'))"
   ]
  },
  {
   "cell_type": "code",
   "execution_count": 13,
   "id": "29eb9df2-cbce-4548-995a-285a50d265cd",
   "metadata": {},
   "outputs": [
    {
     "data": {
      "application/vnd.jupyter.widget-view+json": {
       "model_id": "34a30d25663c406c80cac50178b75b43",
       "version_major": 2,
       "version_minor": 0
      },
      "text/plain": [
       "Clicking:   0%|          | 0/25 [00:00<?, ?it/s]"
      ]
     },
     "metadata": {},
     "output_type": "display_data"
    },
    {
     "data": {
      "application/vnd.jupyter.widget-view+json": {
       "model_id": "88f2ff01632b417cb351c3062f6ea7aa",
       "version_major": 2,
       "version_minor": 0
      },
      "text/plain": [
       "Saving:   0%|          | 0/1343 [00:00<?, ?it/s]"
      ]
     },
     "metadata": {},
     "output_type": "display_data"
    },
    {
     "name": "stdout",
     "output_type": "stream",
     "text": [
      "\n",
      "Total error clicks: 0\n",
      "Total error downloads: 0\n",
      "Total images downloaded: 1343\n",
      "Saved to data\\hands\\no_labels\n"
     ]
    }
   ],
   "source": [
    "iis.scrape_images('hands first person view', 25, Path('data/hands/no_labels'))"
   ]
  },
  {
   "cell_type": "code",
   "execution_count": 14,
   "id": "25ade1c3-0c7c-4c5f-8b66-949d1cb54b4b",
   "metadata": {},
   "outputs": [
    {
     "data": {
      "application/vnd.jupyter.widget-view+json": {
       "model_id": "da76e563fac54393beb8c796efcc33e8",
       "version_major": 2,
       "version_minor": 0
      },
      "text/plain": [
       "Clicking:   0%|          | 0/10 [00:00<?, ?it/s]"
      ]
     },
     "metadata": {},
     "output_type": "display_data"
    },
    {
     "data": {
      "application/vnd.jupyter.widget-view+json": {
       "model_id": "803c140c9b2342a8a25a57f87670579d",
       "version_major": 2,
       "version_minor": 0
      },
      "text/plain": [
       "Saving:   0%|          | 0/546 [00:00<?, ?it/s]"
      ]
     },
     "metadata": {},
     "output_type": "display_data"
    },
    {
     "name": "stdout",
     "output_type": "stream",
     "text": [
      "\n",
      "Total error clicks: 0\n",
      "Total error downloads: 0\n",
      "Total images downloaded: 546\n",
      "Saved to data\\hands\\no_labels\n"
     ]
    }
   ],
   "source": [
    "iis.scrape_images('moving hands first person view', 10, Path('data/hands/no_labels'))"
   ]
  },
  {
   "cell_type": "code",
   "execution_count": 15,
   "id": "4678423f-401d-4b28-9f0b-879f9438fd97",
   "metadata": {},
   "outputs": [
    {
     "data": {
      "application/vnd.jupyter.widget-view+json": {
       "model_id": "783638b7c57a414782bec80b9ec28226",
       "version_major": 2,
       "version_minor": 0
      },
      "text/plain": [
       "Clicking:   0%|          | 0/25 [00:00<?, ?it/s]"
      ]
     },
     "metadata": {},
     "output_type": "display_data"
    },
    {
     "data": {
      "application/vnd.jupyter.widget-view+json": {
       "model_id": "14cb2d415e8d4cbdadf96250b4b1e885",
       "version_major": 2,
       "version_minor": 0
      },
      "text/plain": [
       "Saving:   0%|          | 0/1300 [00:00<?, ?it/s]"
      ]
     },
     "metadata": {},
     "output_type": "display_data"
    },
    {
     "name": "stdout",
     "output_type": "stream",
     "text": [
      "\n",
      "Total error clicks: 0\n",
      "Total error downloads: 0\n",
      "Total images downloaded: 1300\n",
      "Saved to data\\hands\\no_labels\n"
     ]
    }
   ],
   "source": [
    "iis.scrape_images('playing hands pov', 25, Path('data/hands/no_labels'))"
   ]
  },
  {
   "cell_type": "code",
   "execution_count": null,
   "id": "7edd9730",
   "metadata": {},
   "outputs": [],
   "source": []
  }
 ],
 "metadata": {
  "kernelspec": {
   "display_name": "Python 3 (ipykernel)",
   "language": "python",
   "name": "python3"
  },
  "language_info": {
   "codemirror_mode": {
    "name": "ipython",
    "version": 3
   },
   "file_extension": ".py",
   "mimetype": "text/x-python",
   "name": "python",
   "nbconvert_exporter": "python",
   "pygments_lexer": "ipython3",
   "version": "3.10.11"
  }
 },
 "nbformat": 4,
 "nbformat_minor": 5
}
